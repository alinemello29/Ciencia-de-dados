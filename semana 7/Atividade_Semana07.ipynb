{
  "nbformat": 4,
  "nbformat_minor": 0,
  "metadata": {
    "colab": {
      "provenance": []
    },
    "kernelspec": {
      "name": "python3",
      "display_name": "Python 3"
    },
    "language_info": {
      "name": "python"
    }
  },
  "cells": [
    {
      "cell_type": "markdown",
      "source": [
        "# Atividade - Semana 07 - Visualizando Dados\n",
        "\n",
        "Esta é atividade semanal sugerida. Você deverá preenchê-la e enviá-la dentro do prazo (até o fechamento da semana corrente)."
      ],
      "metadata": {
        "id": "bPISwE0Is_Pu"
      }
    },
    {
      "cell_type": "markdown",
      "source": [
        "###Questão 1\n",
        "\n",
        "Crie um gráfico de linha para a expectativa de vida (em anos) da população brasileira:\n",
        "  -  Adicione um título;\n",
        "  -  Adicione rótulos nos eixos;\n",
        "  -  Use o estilo como desejar (cor, marcador, estilo da linha, etc...);\n",
        "  -  Ao fim, exiba o gráfico usando `plt.show()`."
      ],
      "metadata": {
        "id": "RAg7REeatl9X"
      }
    },
    {
      "cell_type": "code",
      "execution_count": null,
      "metadata": {
        "id": "izFFVN2Nst-F"
      },
      "outputs": [],
      "source": [
        "# Questao 1\n",
        "\n",
        "from matplotlib import pyplot as plt\n",
        "\n",
        "anos = [1940, 1950, 1960, 1970, 1980, 1991, 2000, 2010, 2018, 2019, 2020]\n",
        "expectativa_vida = [45.5, 48, 52.5, 57.6, 62.5, 66.9, 69.8, 73.9, 76.3, 76.6, 76.8]"
      ]
    },
    {
      "cell_type": "markdown",
      "source": [
        "###Questão 2\n",
        "\n",
        "Crie um gráfico de barras para o número de temporadas das séries de TV mais longínquas:\n",
        "  -  Adicione um título;\n",
        "  -  Adicione rótulos nos eixos;\n",
        "  -  Use o estilo como desejar (cor, estilo da linha, etc...);\n",
        "  -  Ao fim, exiba o gráfico usando `plt.show()`."
      ],
      "metadata": {
        "id": "3xNawcemugMY"
      }
    },
    {
      "cell_type": "code",
      "source": [
        "# Questao 2\n",
        "\n",
        "series = [\"Os Simpsons\", \"Lei e Ordem: SVU\", \"Lei e Ordem\", \"Família da Pesada\"]\n",
        "temporadas = [34, 24, 22, 21]"
      ],
      "metadata": {
        "id": "yVxFX6kPuu6Z"
      },
      "execution_count": null,
      "outputs": []
    },
    {
      "cell_type": "markdown",
      "source": [
        "###Questão 3\n",
        "\n",
        "Abaixo temos a altura dos jogadores da seleção brasileira de futebol que participaram da Copa do Mundo 2022. Crie um histograma para a altura destes jogadores.\n",
        "\n",
        "  -  Adicione um título;\n",
        "  -  Adicione rótulos nos eixos;\n",
        "  -  Use o estilo como desejar (cor, estilo da linha, etc...);\n",
        "  -  Ao fim, exiba o gráfico usando `plt.show()`."
      ],
      "metadata": {
        "id": "sbXN8AoMuxvx"
      }
    },
    {
      "cell_type": "code",
      "source": [
        "# Questao 3\n",
        "\n",
        "altura = [1.93, 1.88, 1.88, 1.83, 1.83, 1.83, 1.8, 1.73, 1.85, 1.8, 1.88, 1.85,\n",
        "          1.8, 1.7, 1.88, 1.83, 1.7, 1.83, 1.75, 1.75, 1.75, 1.75, 1.75, 1.75,\n",
        "          1.85, 1.78]"
      ],
      "metadata": {
        "id": "YxUJOpR2uyFh"
      },
      "execution_count": null,
      "outputs": []
    },
    {
      "cell_type": "markdown",
      "source": [
        "###Questão 4\n",
        "\n",
        "Escolha uma das ações disponíveis e crie um gráfico de linha ao longo do tempo:\n",
        "  -  Adicione um título;\n",
        "  -  Adicione rótulos nos eixos;\n",
        "  -  Use o estilo como desejar (cor, estilo da linha, etc...);\n",
        "  -  Ao fim, exiba o gráfico usando `plt.show()`."
      ],
      "metadata": {
        "id": "8LNVxN-DvqpU"
      }
    },
    {
      "cell_type": "code",
      "source": [
        "# Questao 4\n",
        "\n",
        "!pip install yfinance"
      ],
      "metadata": {
        "id": "lXTKOd3pvrmT"
      },
      "execution_count": null,
      "outputs": []
    },
    {
      "cell_type": "code",
      "source": [
        "import yfinance as yf\n",
        "\n",
        "# OPCOES:\n",
        "# B3SA3.SA: B3 S.A. - Brasil, Bolsa, Balcão\n",
        "# BBAS3.SA: Banco do Brasil S.A.\n",
        "# EMBR3.SA: Centrais Elétricas Brasileiras S.A. - Eletrobrás\n",
        "# EMBR3.SA: Embraer S.A.\n",
        "# PETR4.SA: Petróleo Brasileiro S.A. - Petrobras\n",
        "acoes = yf.download(\"DIGITE O CODIGO AQUI\",  # Por exemplo: \"B3SA3.SA\"\n",
        "                    start = \"AAAA-MM-DD\",    # Por exemplo: 2022-12-01\n",
        "                    end = \"AAAA-MM-DD\")      # Por exemplo: 2023-03-18\n",
        "\n",
        "# separando somente os valores de fechamento\n",
        "acoes = acoes.loc[:, \"Close\"]\n",
        "\n",
        "# renomeando\n",
        "acoes.index.name = 'data'"
      ],
      "metadata": {
        "id": "UB68jX-jIRNb"
      },
      "execution_count": null,
      "outputs": []
    }
  ]
}