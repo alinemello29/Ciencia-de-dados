{
  "nbformat": 4,
  "nbformat_minor": 0,
  "metadata": {
    "colab": {
      "provenance": []
    },
    "kernelspec": {
      "name": "python3",
      "display_name": "Python 3"
    },
    "language_info": {
      "name": "python"
    }
  },
  "cells": [
    {
      "cell_type": "markdown",
      "source": [
        "# Atividade da Semana 10\n",
        "\n",
        "Esta é atividade semanal sugerida. Você deverá preenchê-la e enviá-la dentro do prazo (até o fechamento da semana corrente)."
      ],
      "metadata": {
        "id": "bPISwE0Is_Pu"
      }
    },
    {
      "cell_type": "code",
      "source": [
        "# Instalando o pacote 'ipeadatapy'\n",
        "!pip install ipeadatapy"
      ],
      "metadata": {
        "id": "LhLlbeEeUTSV"
      },
      "execution_count": null,
      "outputs": []
    },
    {
      "cell_type": "code",
      "execution_count": null,
      "metadata": {
        "id": "izFFVN2Nst-F"
      },
      "outputs": [],
      "source": [
        "# Carregando pacotes\n",
        "import pandas as pd\n",
        "import ipeadatapy\n",
        "import matplotlib.pyplot as plt\n",
        "\n",
        "# Obtendo serie com dados sobre emplacamento de veículos\n",
        "emplacamentos = ipeadatapy.timeseries('ANFAVE12_LICVEN12')\n",
        "emplacamentos.reset_index(inplace=True)\n",
        "emplacamentos = emplacamentos.loc[(\n",
        "    emplacamentos[\"DATE\"] >= \"2015-01-01\") & (emplacamentos[\"DATE\"] < \"2019-01-01\"),\n",
        "                                  \"VALUE (-)\"]\n",
        "emplacamentos.rename(\"emplacamentos\", inplace=True)\n",
        "\n",
        "# Obtendo serie com dados sobre IPI arrecadado sobre automóveis\n",
        "ipi = ipeadatapy.timeseries('SRF12_IPI12')\n",
        "ipi.reset_index(inplace=True)\n",
        "ipi = ipi.loc[(ipi[\"DATE\"] >= \"2015-01-01\") & (ipi[\"DATE\"] < \"2019-01-01\"),\n",
        "                                  \"VALUE (R$)\"]\n",
        "ipi.rename(\"ipi\", inplace=True)\n",
        "\n",
        "carros = pd.concat([emplacamentos.reset_index(drop=True),\n",
        "                    ipi.reset_index(drop=True)],\n",
        "                   axis=1)\n",
        "carros"
      ]
    },
    {
      "cell_type": "markdown",
      "source": [
        "###Questão 1\n",
        "\n",
        "Vamos relembrar o seguinte:\n",
        "\n",
        "> O número de veículos emplacados (ou seja, veículos que foram comprados novos) funciona como um indicador econômico que demonstra o poder aquisitivo da população em geral. Estes dados também são úteis como indicadores de saúde, uma vez que, uma frota mais nova, polui menos o ar e o número de casos de doenças respiratórias em grandes centros é reduzido.\n",
        "\n",
        "> O Imposto sobre Produtos Industrializados, cuja sigla é IPI, é um imposto federal, ou seja, somente a União pode instituí-lo ou modificá-lo, sobre produtos industrializados no Brasil.\n",
        "\n",
        "É possível utilizar uma regressão linear para estimar o `IPI` utilizando o `número de veículos emplacados`? Argumente utilizando alguma medida estatística para este fim.\n"
      ],
      "metadata": {
        "id": "RAg7REeatl9X"
      }
    },
    {
      "cell_type": "code",
      "source": [
        "# Questao 1\n",
        "\n",
        "\n",
        "\n"
      ],
      "metadata": {
        "id": "RiMfakApHzFP"
      },
      "execution_count": null,
      "outputs": []
    },
    {
      "cell_type": "markdown",
      "source": [
        "###Questão 2\n",
        "\n",
        "Crie uma base de `treinamento` e de `teste` para o ajuste de um modelo linear. Utilize 70% dos dados como conjunto de treinamento.\n"
      ],
      "metadata": {
        "id": "3xNawcemugMY"
      }
    },
    {
      "cell_type": "code",
      "source": [
        "# Questao 2\n",
        "\n",
        "\n"
      ],
      "metadata": {
        "id": "x8g4GMufHvuL"
      },
      "execution_count": null,
      "outputs": []
    },
    {
      "cell_type": "markdown",
      "source": [
        "###Questão 3\n",
        "\n",
        "Treine o modelo linear utilizando a base de `treino`."
      ],
      "metadata": {
        "id": "sbXN8AoMuxvx"
      }
    },
    {
      "cell_type": "code",
      "source": [
        "# Questao 3\n",
        "\n",
        "\n"
      ],
      "metadata": {
        "id": "YxUJOpR2uyFh"
      },
      "execution_count": null,
      "outputs": []
    },
    {
      "cell_type": "markdown",
      "source": [
        "###Questão 4\n",
        "\n",
        "Avalie a `performance` do modelo estimado através do **coeficiente de determinação** $R^2$.\n",
        "*    Qual percentual de variabilidade do `IPI` é explicado pelo `número de emplacamentos`?\n",
        "*    O que esse valor calculado representa?\n"
      ],
      "metadata": {
        "id": "b_9DPA3nRV0W"
      }
    },
    {
      "cell_type": "code",
      "source": [
        "# Questao 4\n",
        "\n",
        "\n"
      ],
      "metadata": {
        "id": "WhlmC6LESPca"
      },
      "execution_count": null,
      "outputs": []
    },
    {
      "cell_type": "markdown",
      "source": [
        "###Questão 5\n",
        "\n",
        "Faça a previsão para o conjunto de teste.\n",
        "*    Calcule o $R^2$ para estes resultados\n",
        "*    Faça o gráfico que exibe os dados observados e a reta estimada pelo modelo linear"
      ],
      "metadata": {
        "id": "8LNVxN-DvqpU"
      }
    },
    {
      "cell_type": "code",
      "source": [
        "# Questao 5\n",
        "\n",
        "\n",
        "\n"
      ],
      "metadata": {
        "id": "L6rN0nSwJyl0"
      },
      "execution_count": null,
      "outputs": []
    }
  ]
}