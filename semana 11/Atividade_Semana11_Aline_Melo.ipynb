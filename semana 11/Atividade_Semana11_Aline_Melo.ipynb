{
  "nbformat": 4,
  "nbformat_minor": 0,
  "metadata": {
    "colab": {
      "provenance": []
    },
    "kernelspec": {
      "name": "python3",
      "display_name": "Python 3"
    },
    "language_info": {
      "name": "python"
    }
  },
  "cells": [
    {
      "cell_type": "markdown",
      "source": [
        "# Atividade da Semana 11\n",
        "\n",
        "Esta é atividade semanal sugerida. Você deverá preenchê-la e enviá-la dentro do prazo (até o fechamento da semana corrente)."
      ],
      "metadata": {
        "id": "bPISwE0Is_Pu"
      }
    },
    {
      "cell_type": "markdown",
      "source": [
        "> A predição da compra de um veículo pelos clientes é uma ferramenta extremamente valiosa para o time de marketing de uma concessionária. Ao relacionar o desfecho (*output*) \"compra\" com a informação de salário dos clientes, através de regressão logística, é possível obter *insights* significativos que podem impulsionar as estratégias de marketing e aumentar as chances de sucesso nas vendas.\n",
        "\n",
        "> Uma das principais vantagens da predição é a capacidade de identificar padrões e tendências no comportamento dos clientes. Ao analisar a relação entre o salário e a decisão de compra, o time de marketing pode compreender melhor quais faixas salariais têm maior probabilidade de adquirir um veículo. Essas informações são extremamente valiosas para direcionar os esforços de marketing de forma mais eficiente, direcionando recursos para os clientes com maior potencial de conversão.\n",
        "\n",
        "> Além disso, a predição da compra também auxilia na personalização das campanhas e na segmentação de mercado. Com base nos resultados da regressão logística, é possível identificar características e preferências específicas dos clientes que estão mais propensos a comprar um automóvel. Isso permite que o time de marketing crie campanhas direcionadas, adaptando mensagens e ofertas de acordo com o perfil de cada segmento de clientes.\n",
        "\n",
        "Abaixo, temos uma base de dados com informações sobre os clientes:"
      ],
      "metadata": {
        "id": "TCYQAqTYzEHZ"
      }
    },
    {
      "cell_type": "code",
      "source": [
        "# LEITURA DE DADOS\n",
        "# > NAO ALTERE ESTE SCRIPT\n",
        "import gdown\n",
        "import pandas as pd\n",
        "\n",
        "url = 'https://drive.google.com/uc?id=1Dlh7Yybvlqumqs8lVGRQpfu-C0rdyx1F'\n",
        "output = 'dados_concessionaria.csv'\n",
        "gdown.download(url, output, quiet=False)\n",
        "\n",
        "dados_conc = pd.read_csv(\"/content/dados_concessionaria.csv\")\n",
        "dados_conc"
      ],
      "metadata": {
        "id": "SSRQSv2XTq28",
        "colab": {
          "base_uri": "https://localhost:8080/",
          "height": 493
        },
        "outputId": "061b26be-fc59-45f9-bff4-34fc5f72317e"
      },
      "execution_count": 2,
      "outputs": [
        {
          "output_type": "stream",
          "name": "stderr",
          "text": [
            "Downloading...\n",
            "From: https://drive.google.com/uc?id=1Dlh7Yybvlqumqs8lVGRQpfu-C0rdyx1F\n",
            "To: /content/dados_concessionaria.csv\n",
            "100%|██████████| 15.1k/15.1k [00:00<00:00, 5.46MB/s]\n"
          ]
        },
        {
          "output_type": "execute_result",
          "data": {
            "text/plain": [
              "          salario compra\n",
              "0     3625.000000    nao\n",
              "1     6166.666667    nao\n",
              "2     6583.333333    nao\n",
              "3     5333.333333    nao\n",
              "4     7041.666667    nao\n",
              "..            ...    ...\n",
              "845   6458.333333    sim\n",
              "846  10125.000000    sim\n",
              "847   8666.666667    sim\n",
              "848  11541.666667    sim\n",
              "849  11166.666667    sim\n",
              "\n",
              "[850 rows x 2 columns]"
            ],
            "text/html": [
              "\n",
              "  <div id=\"df-851b55b5-b2f9-4817-8d3f-ce5271d39503\" class=\"colab-df-container\">\n",
              "    <div>\n",
              "<style scoped>\n",
              "    .dataframe tbody tr th:only-of-type {\n",
              "        vertical-align: middle;\n",
              "    }\n",
              "\n",
              "    .dataframe tbody tr th {\n",
              "        vertical-align: top;\n",
              "    }\n",
              "\n",
              "    .dataframe thead th {\n",
              "        text-align: right;\n",
              "    }\n",
              "</style>\n",
              "<table border=\"1\" class=\"dataframe\">\n",
              "  <thead>\n",
              "    <tr style=\"text-align: right;\">\n",
              "      <th></th>\n",
              "      <th>salario</th>\n",
              "      <th>compra</th>\n",
              "    </tr>\n",
              "  </thead>\n",
              "  <tbody>\n",
              "    <tr>\n",
              "      <th>0</th>\n",
              "      <td>3625.000000</td>\n",
              "      <td>nao</td>\n",
              "    </tr>\n",
              "    <tr>\n",
              "      <th>1</th>\n",
              "      <td>6166.666667</td>\n",
              "      <td>nao</td>\n",
              "    </tr>\n",
              "    <tr>\n",
              "      <th>2</th>\n",
              "      <td>6583.333333</td>\n",
              "      <td>nao</td>\n",
              "    </tr>\n",
              "    <tr>\n",
              "      <th>3</th>\n",
              "      <td>5333.333333</td>\n",
              "      <td>nao</td>\n",
              "    </tr>\n",
              "    <tr>\n",
              "      <th>4</th>\n",
              "      <td>7041.666667</td>\n",
              "      <td>nao</td>\n",
              "    </tr>\n",
              "    <tr>\n",
              "      <th>...</th>\n",
              "      <td>...</td>\n",
              "      <td>...</td>\n",
              "    </tr>\n",
              "    <tr>\n",
              "      <th>845</th>\n",
              "      <td>6458.333333</td>\n",
              "      <td>sim</td>\n",
              "    </tr>\n",
              "    <tr>\n",
              "      <th>846</th>\n",
              "      <td>10125.000000</td>\n",
              "      <td>sim</td>\n",
              "    </tr>\n",
              "    <tr>\n",
              "      <th>847</th>\n",
              "      <td>8666.666667</td>\n",
              "      <td>sim</td>\n",
              "    </tr>\n",
              "    <tr>\n",
              "      <th>848</th>\n",
              "      <td>11541.666667</td>\n",
              "      <td>sim</td>\n",
              "    </tr>\n",
              "    <tr>\n",
              "      <th>849</th>\n",
              "      <td>11166.666667</td>\n",
              "      <td>sim</td>\n",
              "    </tr>\n",
              "  </tbody>\n",
              "</table>\n",
              "<p>850 rows × 2 columns</p>\n",
              "</div>\n",
              "    <div class=\"colab-df-buttons\">\n",
              "\n",
              "  <div class=\"colab-df-container\">\n",
              "    <button class=\"colab-df-convert\" onclick=\"convertToInteractive('df-851b55b5-b2f9-4817-8d3f-ce5271d39503')\"\n",
              "            title=\"Convert this dataframe to an interactive table.\"\n",
              "            style=\"display:none;\">\n",
              "\n",
              "  <svg xmlns=\"http://www.w3.org/2000/svg\" height=\"24px\" viewBox=\"0 -960 960 960\">\n",
              "    <path d=\"M120-120v-720h720v720H120Zm60-500h600v-160H180v160Zm220 220h160v-160H400v160Zm0 220h160v-160H400v160ZM180-400h160v-160H180v160Zm440 0h160v-160H620v160ZM180-180h160v-160H180v160Zm440 0h160v-160H620v160Z\"/>\n",
              "  </svg>\n",
              "    </button>\n",
              "\n",
              "  <style>\n",
              "    .colab-df-container {\n",
              "      display:flex;\n",
              "      gap: 12px;\n",
              "    }\n",
              "\n",
              "    .colab-df-convert {\n",
              "      background-color: #E8F0FE;\n",
              "      border: none;\n",
              "      border-radius: 50%;\n",
              "      cursor: pointer;\n",
              "      display: none;\n",
              "      fill: #1967D2;\n",
              "      height: 32px;\n",
              "      padding: 0 0 0 0;\n",
              "      width: 32px;\n",
              "    }\n",
              "\n",
              "    .colab-df-convert:hover {\n",
              "      background-color: #E2EBFA;\n",
              "      box-shadow: 0px 1px 2px rgba(60, 64, 67, 0.3), 0px 1px 3px 1px rgba(60, 64, 67, 0.15);\n",
              "      fill: #174EA6;\n",
              "    }\n",
              "\n",
              "    .colab-df-buttons div {\n",
              "      margin-bottom: 4px;\n",
              "    }\n",
              "\n",
              "    [theme=dark] .colab-df-convert {\n",
              "      background-color: #3B4455;\n",
              "      fill: #D2E3FC;\n",
              "    }\n",
              "\n",
              "    [theme=dark] .colab-df-convert:hover {\n",
              "      background-color: #434B5C;\n",
              "      box-shadow: 0px 1px 3px 1px rgba(0, 0, 0, 0.15);\n",
              "      filter: drop-shadow(0px 1px 2px rgba(0, 0, 0, 0.3));\n",
              "      fill: #FFFFFF;\n",
              "    }\n",
              "  </style>\n",
              "\n",
              "    <script>\n",
              "      const buttonEl =\n",
              "        document.querySelector('#df-851b55b5-b2f9-4817-8d3f-ce5271d39503 button.colab-df-convert');\n",
              "      buttonEl.style.display =\n",
              "        google.colab.kernel.accessAllowed ? 'block' : 'none';\n",
              "\n",
              "      async function convertToInteractive(key) {\n",
              "        const element = document.querySelector('#df-851b55b5-b2f9-4817-8d3f-ce5271d39503');\n",
              "        const dataTable =\n",
              "          await google.colab.kernel.invokeFunction('convertToInteractive',\n",
              "                                                    [key], {});\n",
              "        if (!dataTable) return;\n",
              "\n",
              "        const docLinkHtml = 'Like what you see? Visit the ' +\n",
              "          '<a target=\"_blank\" href=https://colab.research.google.com/notebooks/data_table.ipynb>data table notebook</a>'\n",
              "          + ' to learn more about interactive tables.';\n",
              "        element.innerHTML = '';\n",
              "        dataTable['output_type'] = 'display_data';\n",
              "        await google.colab.output.renderOutput(dataTable, element);\n",
              "        const docLink = document.createElement('div');\n",
              "        docLink.innerHTML = docLinkHtml;\n",
              "        element.appendChild(docLink);\n",
              "      }\n",
              "    </script>\n",
              "  </div>\n",
              "\n",
              "\n",
              "<div id=\"df-029f6240-9a9b-4fa4-a735-7613d861b8f1\">\n",
              "  <button class=\"colab-df-quickchart\" onclick=\"quickchart('df-029f6240-9a9b-4fa4-a735-7613d861b8f1')\"\n",
              "            title=\"Suggest charts\"\n",
              "            style=\"display:none;\">\n",
              "\n",
              "<svg xmlns=\"http://www.w3.org/2000/svg\" height=\"24px\"viewBox=\"0 0 24 24\"\n",
              "     width=\"24px\">\n",
              "    <g>\n",
              "        <path d=\"M19 3H5c-1.1 0-2 .9-2 2v14c0 1.1.9 2 2 2h14c1.1 0 2-.9 2-2V5c0-1.1-.9-2-2-2zM9 17H7v-7h2v7zm4 0h-2V7h2v10zm4 0h-2v-4h2v4z\"/>\n",
              "    </g>\n",
              "</svg>\n",
              "  </button>\n",
              "\n",
              "<style>\n",
              "  .colab-df-quickchart {\n",
              "      --bg-color: #E8F0FE;\n",
              "      --fill-color: #1967D2;\n",
              "      --hover-bg-color: #E2EBFA;\n",
              "      --hover-fill-color: #174EA6;\n",
              "      --disabled-fill-color: #AAA;\n",
              "      --disabled-bg-color: #DDD;\n",
              "  }\n",
              "\n",
              "  [theme=dark] .colab-df-quickchart {\n",
              "      --bg-color: #3B4455;\n",
              "      --fill-color: #D2E3FC;\n",
              "      --hover-bg-color: #434B5C;\n",
              "      --hover-fill-color: #FFFFFF;\n",
              "      --disabled-bg-color: #3B4455;\n",
              "      --disabled-fill-color: #666;\n",
              "  }\n",
              "\n",
              "  .colab-df-quickchart {\n",
              "    background-color: var(--bg-color);\n",
              "    border: none;\n",
              "    border-radius: 50%;\n",
              "    cursor: pointer;\n",
              "    display: none;\n",
              "    fill: var(--fill-color);\n",
              "    height: 32px;\n",
              "    padding: 0;\n",
              "    width: 32px;\n",
              "  }\n",
              "\n",
              "  .colab-df-quickchart:hover {\n",
              "    background-color: var(--hover-bg-color);\n",
              "    box-shadow: 0 1px 2px rgba(60, 64, 67, 0.3), 0 1px 3px 1px rgba(60, 64, 67, 0.15);\n",
              "    fill: var(--button-hover-fill-color);\n",
              "  }\n",
              "\n",
              "  .colab-df-quickchart-complete:disabled,\n",
              "  .colab-df-quickchart-complete:disabled:hover {\n",
              "    background-color: var(--disabled-bg-color);\n",
              "    fill: var(--disabled-fill-color);\n",
              "    box-shadow: none;\n",
              "  }\n",
              "\n",
              "  .colab-df-spinner {\n",
              "    border: 2px solid var(--fill-color);\n",
              "    border-color: transparent;\n",
              "    border-bottom-color: var(--fill-color);\n",
              "    animation:\n",
              "      spin 1s steps(1) infinite;\n",
              "  }\n",
              "\n",
              "  @keyframes spin {\n",
              "    0% {\n",
              "      border-color: transparent;\n",
              "      border-bottom-color: var(--fill-color);\n",
              "      border-left-color: var(--fill-color);\n",
              "    }\n",
              "    20% {\n",
              "      border-color: transparent;\n",
              "      border-left-color: var(--fill-color);\n",
              "      border-top-color: var(--fill-color);\n",
              "    }\n",
              "    30% {\n",
              "      border-color: transparent;\n",
              "      border-left-color: var(--fill-color);\n",
              "      border-top-color: var(--fill-color);\n",
              "      border-right-color: var(--fill-color);\n",
              "    }\n",
              "    40% {\n",
              "      border-color: transparent;\n",
              "      border-right-color: var(--fill-color);\n",
              "      border-top-color: var(--fill-color);\n",
              "    }\n",
              "    60% {\n",
              "      border-color: transparent;\n",
              "      border-right-color: var(--fill-color);\n",
              "    }\n",
              "    80% {\n",
              "      border-color: transparent;\n",
              "      border-right-color: var(--fill-color);\n",
              "      border-bottom-color: var(--fill-color);\n",
              "    }\n",
              "    90% {\n",
              "      border-color: transparent;\n",
              "      border-bottom-color: var(--fill-color);\n",
              "    }\n",
              "  }\n",
              "</style>\n",
              "\n",
              "  <script>\n",
              "    async function quickchart(key) {\n",
              "      const quickchartButtonEl =\n",
              "        document.querySelector('#' + key + ' button');\n",
              "      quickchartButtonEl.disabled = true;  // To prevent multiple clicks.\n",
              "      quickchartButtonEl.classList.add('colab-df-spinner');\n",
              "      try {\n",
              "        const charts = await google.colab.kernel.invokeFunction(\n",
              "            'suggestCharts', [key], {});\n",
              "      } catch (error) {\n",
              "        console.error('Error during call to suggestCharts:', error);\n",
              "      }\n",
              "      quickchartButtonEl.classList.remove('colab-df-spinner');\n",
              "      quickchartButtonEl.classList.add('colab-df-quickchart-complete');\n",
              "    }\n",
              "    (() => {\n",
              "      let quickchartButtonEl =\n",
              "        document.querySelector('#df-029f6240-9a9b-4fa4-a735-7613d861b8f1 button');\n",
              "      quickchartButtonEl.style.display =\n",
              "        google.colab.kernel.accessAllowed ? 'block' : 'none';\n",
              "    })();\n",
              "  </script>\n",
              "</div>\n",
              "\n",
              "  <div id=\"id_900988e2-e490-4dce-912b-f433d3b052f5\">\n",
              "    <style>\n",
              "      .colab-df-generate {\n",
              "        background-color: #E8F0FE;\n",
              "        border: none;\n",
              "        border-radius: 50%;\n",
              "        cursor: pointer;\n",
              "        display: none;\n",
              "        fill: #1967D2;\n",
              "        height: 32px;\n",
              "        padding: 0 0 0 0;\n",
              "        width: 32px;\n",
              "      }\n",
              "\n",
              "      .colab-df-generate:hover {\n",
              "        background-color: #E2EBFA;\n",
              "        box-shadow: 0px 1px 2px rgba(60, 64, 67, 0.3), 0px 1px 3px 1px rgba(60, 64, 67, 0.15);\n",
              "        fill: #174EA6;\n",
              "      }\n",
              "\n",
              "      [theme=dark] .colab-df-generate {\n",
              "        background-color: #3B4455;\n",
              "        fill: #D2E3FC;\n",
              "      }\n",
              "\n",
              "      [theme=dark] .colab-df-generate:hover {\n",
              "        background-color: #434B5C;\n",
              "        box-shadow: 0px 1px 3px 1px rgba(0, 0, 0, 0.15);\n",
              "        filter: drop-shadow(0px 1px 2px rgba(0, 0, 0, 0.3));\n",
              "        fill: #FFFFFF;\n",
              "      }\n",
              "    </style>\n",
              "    <button class=\"colab-df-generate\" onclick=\"generateWithVariable('dados_conc')\"\n",
              "            title=\"Generate code using this dataframe.\"\n",
              "            style=\"display:none;\">\n",
              "\n",
              "  <svg xmlns=\"http://www.w3.org/2000/svg\" height=\"24px\"viewBox=\"0 0 24 24\"\n",
              "       width=\"24px\">\n",
              "    <path d=\"M7,19H8.4L18.45,9,17,7.55,7,17.6ZM5,21V16.75L18.45,3.32a2,2,0,0,1,2.83,0l1.4,1.43a1.91,1.91,0,0,1,.58,1.4,1.91,1.91,0,0,1-.58,1.4L9.25,21ZM18.45,9,17,7.55Zm-12,3A5.31,5.31,0,0,0,4.9,8.1,5.31,5.31,0,0,0,1,6.5,5.31,5.31,0,0,0,4.9,4.9,5.31,5.31,0,0,0,6.5,1,5.31,5.31,0,0,0,8.1,4.9,5.31,5.31,0,0,0,12,6.5,5.46,5.46,0,0,0,6.5,12Z\"/>\n",
              "  </svg>\n",
              "    </button>\n",
              "    <script>\n",
              "      (() => {\n",
              "      const buttonEl =\n",
              "        document.querySelector('#id_900988e2-e490-4dce-912b-f433d3b052f5 button.colab-df-generate');\n",
              "      buttonEl.style.display =\n",
              "        google.colab.kernel.accessAllowed ? 'block' : 'none';\n",
              "\n",
              "      buttonEl.onclick = () => {\n",
              "        google.colab.notebook.generateWithVariable('dados_conc');\n",
              "      }\n",
              "      })();\n",
              "    </script>\n",
              "  </div>\n",
              "\n",
              "    </div>\n",
              "  </div>\n"
            ],
            "application/vnd.google.colaboratory.intrinsic+json": {
              "type": "dataframe",
              "variable_name": "dados_conc",
              "summary": "{\n  \"name\": \"dados_conc\",\n  \"rows\": 850,\n  \"fields\": [\n    {\n      \"column\": \"salario\",\n      \"properties\": {\n        \"dtype\": \"number\",\n        \"std\": 2736.63710653977,\n        \"min\": 1250.0,\n        \"max\": 12708.333333333334,\n        \"num_unique_values\": 237,\n        \"samples\": [\n          6333.333333333333,\n          5166.666666666667,\n          12500.0\n        ],\n        \"semantic_type\": \"\",\n        \"description\": \"\"\n      }\n    },\n    {\n      \"column\": \"compra\",\n      \"properties\": {\n        \"dtype\": \"category\",\n        \"num_unique_values\": 2,\n        \"samples\": [\n          \"sim\",\n          \"nao\"\n        ],\n        \"semantic_type\": \"\",\n        \"description\": \"\"\n      }\n    }\n  ]\n}"
            }
          },
          "metadata": {},
          "execution_count": 2
        }
      ]
    },
    {
      "cell_type": "markdown",
      "source": [
        "###Questão 1\n",
        "\n",
        "Infelizmente, a variável `compra` foi registrada como texto. Converta esta variável para um **atributo quantitativo discreto** onde:\n",
        "*   `nao` recebe `0`;\n",
        "*   `sim` recebe `1`."
      ],
      "metadata": {
        "id": "RAg7REeatl9X"
      }
    },
    {
      "cell_type": "code",
      "source": [
        "# Questao 1\n",
        "# Verifique os valores únicos na coluna \"compra\"\n",
        "print(dados_conc['compra'].unique())\n",
        "\n",
        "# Convertendo a variável \"compra\" de texto para numérico\n",
        "dados_conc['compra'] = dados_conc['compra'].map({'nao': 0, 'sim': 1})\n",
        "\n",
        "# Forçando o Python a entender que essa variável é numérica\n",
        "dados_conc[\"compra\"] = pd.to_numeric(dados_conc[\"compra\"], downcast=\"float\")\n",
        "\n",
        "# Verifique a conversão\n",
        "print(dados_conc['compra'].unique())\n",
        "\n",
        "# DICA: Mantenha esse comando apos as alteracoes\n",
        "# > Forcamos o Python a entender que essa variavel e numerica\n",
        "dados_conc[\"compra\"] = pd.to_numeric(dados_conc[\"compra\"],\n",
        "                                     downcast=\"float\")"
      ],
      "metadata": {
        "id": "TFzs4S10tbM6",
        "colab": {
          "base_uri": "https://localhost:8080/"
        },
        "outputId": "6d4f7be5-e609-45ac-8144-1713f01948b3"
      },
      "execution_count": 3,
      "outputs": [
        {
          "output_type": "stream",
          "name": "stdout",
          "text": [
            "['nao' 'sim']\n",
            "[0. 1.]\n"
          ]
        }
      ]
    },
    {
      "cell_type": "markdown",
      "source": [
        "###Questão 2\n",
        "\n",
        "Crie uma base de `treinamento` e de `teste` para o ajuste de um modelo logístico. Utilize 80% dos dados como conjunto de treinamento.\n"
      ],
      "metadata": {
        "id": "3xNawcemugMY"
      }
    },
    {
      "cell_type": "code",
      "source": [
        "# Questao 2\n",
        "from sklearn.model_selection import train_test_split\n",
        "\n",
        "# Definindo as variáveis independentes (X) e dependentes (y)\n",
        "X = dados_conc[['salario']]  # Substitua com as variáveis independentes que desejar usar\n",
        "y = dados_conc['compra']      # Variável dependente\n",
        "\n",
        "# Dividindo os dados em conjunto de treinamento (80%) e teste (20%)\n",
        "X_train, X_test, y_train, y_test = train_test_split(X, y, test_size=0.2, random_state=42)\n",
        "\n",
        "# Exibindo os tamanhos dos conjuntos\n",
        "print(f\"Tamanho do conjunto de treinamento: {len(X_train)}\")\n",
        "print(f\"Tamanho do conjunto de teste: {len(X_test)}\")"
      ],
      "metadata": {
        "id": "x8g4GMufHvuL",
        "colab": {
          "base_uri": "https://localhost:8080/"
        },
        "outputId": "7e407bd8-7cc7-43ff-ee02-e0260373d5af"
      },
      "execution_count": 4,
      "outputs": [
        {
          "output_type": "stream",
          "name": "stdout",
          "text": [
            "Tamanho do conjunto de treinamento: 680\n",
            "Tamanho do conjunto de teste: 170\n"
          ]
        }
      ]
    },
    {
      "cell_type": "markdown",
      "source": [
        "###Questão 3\n",
        "\n",
        "Treine o modelo logístico utilizando a base de `treino`."
      ],
      "metadata": {
        "id": "sbXN8AoMuxvx"
      }
    },
    {
      "cell_type": "code",
      "source": [
        "# Questao 3\n",
        "from sklearn.linear_model import LogisticRegression\n",
        "\n",
        "# Criando o modelo de regressão logística\n",
        "modelo_logistico = LogisticRegression()\n",
        "\n",
        "# Treinando o modelo com a base de treinamento\n",
        "modelo_logistico.fit(X_train, y_train)\n",
        "\n",
        "# Exibindo os coeficientes do modelo\n",
        "print(f\"Coeficiente do modelo: {modelo_logistico.coef_[0]}\")\n",
        "print(f\"Intercepto do modelo: {modelo_logistico.intercept_[0]}\")"
      ],
      "metadata": {
        "id": "YxUJOpR2uyFh",
        "colab": {
          "base_uri": "https://localhost:8080/"
        },
        "outputId": "edf3a34d-d0d9-4edf-c947-751a9e1519c0"
      },
      "execution_count": 5,
      "outputs": [
        {
          "output_type": "stream",
          "name": "stdout",
          "text": [
            "Coeficiente do modelo: [0.00160036]\n",
            "Intercepto do modelo: -11.723903303947012\n"
          ]
        }
      ]
    },
    {
      "cell_type": "markdown",
      "source": [
        "###Questão 4\n",
        "\n",
        "Avalie a `performance` do modelo estimado na base de `teste` utilizando:\n",
        "*    Matriz de confusão\n",
        "*    Precisão\n",
        "*    Sensibilidade\n",
        "\n",
        "> Dica:\n",
        "*    Defina input e output para a base de teste;\n",
        "*    Faça a previsão para a base de teste;\n",
        "*    Calcule as medidas de performance listadas acima."
      ],
      "metadata": {
        "id": "b_9DPA3nRV0W"
      }
    },
    {
      "cell_type": "code",
      "source": [
        "# Questao 4\n",
        "from sklearn.metrics import confusion_matrix, accuracy_score, recall_score\n",
        "\n",
        "# Definindo input e output para a base de teste\n",
        "# X_test e y_test já estão definidos a partir da divisão anterior\n",
        "\n",
        "# Fazendo previsões para a base de teste\n",
        "y_pred = modelo_logistico.predict(X_test)\n",
        "\n",
        "# Calculando a matriz de confusão\n",
        "matriz_confusao = confusion_matrix(y_test, y_pred)\n",
        "print(\"Matriz de Confusão:\")\n",
        "print(matriz_confusao)\n",
        "\n",
        "# Calculando medidas de performance\n",
        "precisao = accuracy_score(y_test, y_pred)\n",
        "sensibilidade = recall_score(y_test, y_pred)\n",
        "\n",
        "print(f\"Precisão (Acurácia): {precisao:.4f}\")\n",
        "print(f\"Sensibilidade (Recall): {sensibilidade:.4f}\")"
      ],
      "metadata": {
        "id": "WhlmC6LESPca",
        "colab": {
          "base_uri": "https://localhost:8080/"
        },
        "outputId": "ad5fd27c-b9d3-4963-ca8c-aa699738fa1c"
      },
      "execution_count": 6,
      "outputs": [
        {
          "output_type": "stream",
          "name": "stdout",
          "text": [
            "Matriz de Confusão:\n",
            "[[108   1]\n",
            " [ 10  51]]\n",
            "Precisão (Acurácia): 0.9353\n",
            "Sensibilidade (Recall): 0.8361\n"
          ]
        }
      ]
    },
    {
      "cell_type": "markdown",
      "source": [
        "###Questão 5\n",
        "\n",
        "Interprete os resultados: Você acredita que o modelo é adequado? Justifique:\n",
        "1.    Interpretando as medidas de performance calculadas anteriormente;\n",
        "2.    Ilustrando com o gráfico que exibe os dados de compra e salário, juntamente com a curva que estima a probabilidade de compra."
      ],
      "metadata": {
        "id": "8LNVxN-DvqpU"
      }
    },
    {
      "cell_type": "code",
      "source": [
        "# Questao 5 (parte 1)\n",
        "'''\n",
        "1. Interpretação das Medidas de Performance\n",
        "Matriz de Confusão\n",
        "A matriz de confusão fornece uma visão geral da performance do modelo, mostrando quantas previsões foram corretas e incorretas. Você deve observar:\n",
        "Verdadeiros Positivos (VP): Número de clientes corretamente previstos como compradores.\n",
        "Verdadeiros Negativos (VN): Número de clientes corretamente previstos como não compradores.\n",
        "Falsos Positivos (FP): Número de clientes incorretamente previstos como compradores.\n",
        "Falsos Negativos (FN): Número de clientes incorretamente previstos como não compradores.\n",
        "Precisão (Acurácia)\n",
        "A precisão indica a proporção de previsões corretas em relação ao total de previsões. Um valor próximo a 1 (ou 100%) sugere um bom desempenho do modelo.\n",
        "Sensibilidade (Recall)\n",
        "A sensibilidade mede a capacidade do modelo de identificar corretamente os compradores. Um valor alto indica que o modelo é bom em detectar clientes que realmente compram.\n",
        "'''"
      ],
      "metadata": {
        "id": "BFwNruPF5eMZ"
      },
      "execution_count": null,
      "outputs": []
    },
    {
      "cell_type": "code",
      "source": [
        "# Questao 5 (parte 2)\n",
        "import numpy as np\n",
        "import matplotlib.pyplot as plt\n",
        "\n",
        "# Gerar valores de salário para prever a probabilidade de compra\n",
        "salario_range = np.linspace(dados_conc['salario'].min(), dados_conc['salario'].max(), 300).reshape(-1, 1)\n",
        "proba = modelo_logistico.predict_proba(salario_range)[:, 1]\n",
        "\n",
        "# Plotando os dados de compra e a curva de probabilidade\n",
        "plt.figure(figsize=(10, 6))\n",
        "plt.scatter(dados_conc['salario'], dados_conc['compra'], color='blue', label='Dados de Compra', alpha=0.5)\n",
        "plt.plot(salario_range, proba, color='red', label='Probabilidade Estimada de Compra', linewidth=2)\n",
        "plt.title('Probabilidade de Compra em Função do Salário')\n",
        "plt.xlabel('Salário')\n",
        "plt.ylabel('Probabilidade de Compra')\n",
        "plt.axhline(0.5, color='green', linestyle='--', label='Limite de Decisão (0.5)')\n",
        "plt.legend()\n",
        "plt.grid()\n",
        "plt.show()"
      ],
      "metadata": {
        "id": "4csV7lUlJzcy",
        "colab": {
          "base_uri": "https://localhost:8080/",
          "height": 620
        },
        "outputId": "728acac9-aa68-4f7a-d54d-4ed111b92bdd"
      },
      "execution_count": 7,
      "outputs": [
        {
          "output_type": "stream",
          "name": "stderr",
          "text": [
            "/usr/local/lib/python3.10/dist-packages/sklearn/base.py:493: UserWarning: X does not have valid feature names, but LogisticRegression was fitted with feature names\n",
            "  warnings.warn(\n"
          ]
        },
        {
          "output_type": "display_data",
          "data": {
            "text/plain": [
              "<Figure size 1000x600 with 1 Axes>"
            ],
            "image/png": "[encoded data removed]"
          },
          "metadata": {}
        }
      ]
    }
  ]
}