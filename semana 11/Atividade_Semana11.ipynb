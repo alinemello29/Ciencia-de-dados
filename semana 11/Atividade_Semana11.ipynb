{
  "nbformat": 4,
  "nbformat_minor": 0,
  "metadata": {
    "colab": {
      "provenance": []
    },
    "kernelspec": {
      "name": "python3",
      "display_name": "Python 3"
    },
    "language_info": {
      "name": "python"
    }
  },
  "cells": [
    {
      "cell_type": "markdown",
      "source": [
        "# Atividade da Semana 11\n",
        "\n",
        "Esta é atividade semanal sugerida. Você deverá preenchê-la e enviá-la dentro do prazo (até o fechamento da semana corrente)."
      ],
      "metadata": {
        "id": "bPISwE0Is_Pu"
      }
    },
    {
      "cell_type": "markdown",
      "source": [
        "> A predição da compra de um veículo pelos clientes é uma ferramenta extremamente valiosa para o time de marketing de uma concessionária. Ao relacionar o desfecho (*output*) \"compra\" com a informação de salário dos clientes, através de regressão logística, é possível obter *insights* significativos que podem impulsionar as estratégias de marketing e aumentar as chances de sucesso nas vendas.\n",
        "\n",
        "> Uma das principais vantagens da predição é a capacidade de identificar padrões e tendências no comportamento dos clientes. Ao analisar a relação entre o salário e a decisão de compra, o time de marketing pode compreender melhor quais faixas salariais têm maior probabilidade de adquirir um veículo. Essas informações são extremamente valiosas para direcionar os esforços de marketing de forma mais eficiente, direcionando recursos para os clientes com maior potencial de conversão.\n",
        "\n",
        "> Além disso, a predição da compra também auxilia na personalização das campanhas e na segmentação de mercado. Com base nos resultados da regressão logística, é possível identificar características e preferências específicas dos clientes que estão mais propensos a comprar um automóvel. Isso permite que o time de marketing crie campanhas direcionadas, adaptando mensagens e ofertas de acordo com o perfil de cada segmento de clientes.\n",
        "\n",
        "Abaixo, temos uma base de dados com informações sobre os clientes:"
      ],
      "metadata": {
        "id": "TCYQAqTYzEHZ"
      }
    },
    {
      "cell_type": "code",
      "source": [
        "# LEITURA DE DADOS\n",
        "# > NAO ALTERE ESTE SCRIPT\n",
        "import gdown\n",
        "import pandas as pd\n",
        "\n",
        "url = 'https://drive.google.com/uc?id=1Dlh7Yybvlqumqs8lVGRQpfu-C0rdyx1F'\n",
        "output = 'dados_concessionaria.csv'\n",
        "gdown.download(url, output, quiet=False)\n",
        "\n",
        "dados_conc = pd.read_csv(\"/content/dados_concessionaria.csv\")\n",
        "dados_conc"
      ],
      "metadata": {
        "id": "SSRQSv2XTq28"
      },
      "execution_count": null,
      "outputs": []
    },
    {
      "cell_type": "markdown",
      "source": [
        "###Questão 1\n",
        "\n",
        "Infelizmente, a variável `compra` foi registrada como texto. Converta esta variável para um **atributo quantitativo discreto** onde:\n",
        "*   `nao` recebe `0`;\n",
        "*   `sim` recebe `1`."
      ],
      "metadata": {
        "id": "RAg7REeatl9X"
      }
    },
    {
      "cell_type": "code",
      "source": [
        "# Questao 1\n",
        "\n",
        "\n",
        "\n",
        "\n",
        "\n",
        "\n",
        "\n",
        "\n",
        "\n",
        "\n",
        "\n",
        "# DICA: Mantenha esse comando apos as alteracoes\n",
        "# > Forcamos o Python a entender que essa variavel e numerica\n",
        "dados_conc[\"compra\"] = pd.to_numeric(dados_conc[\"compra\"],\n",
        "                                     downcast=\"float\")"
      ],
      "metadata": {
        "id": "TFzs4S10tbM6"
      },
      "execution_count": null,
      "outputs": []
    },
    {
      "cell_type": "markdown",
      "source": [
        "###Questão 2\n",
        "\n",
        "Crie uma base de `treinamento` e de `teste` para o ajuste de um modelo logístico. Utilize 80% dos dados como conjunto de treinamento.\n"
      ],
      "metadata": {
        "id": "3xNawcemugMY"
      }
    },
    {
      "cell_type": "code",
      "source": [
        "# Questao 2\n",
        "\n",
        "\n",
        "\n",
        "\n",
        "\n",
        "\n",
        "\n",
        "\n"
      ],
      "metadata": {
        "id": "x8g4GMufHvuL"
      },
      "execution_count": null,
      "outputs": []
    },
    {
      "cell_type": "markdown",
      "source": [
        "###Questão 3\n",
        "\n",
        "Treine o modelo logístico utilizando a base de `treino`."
      ],
      "metadata": {
        "id": "sbXN8AoMuxvx"
      }
    },
    {
      "cell_type": "code",
      "source": [
        "# Questao 3\n",
        "\n",
        "\n",
        "\n",
        "\n",
        "\n",
        "\n",
        "\n",
        "\n",
        "\n"
      ],
      "metadata": {
        "id": "YxUJOpR2uyFh"
      },
      "execution_count": null,
      "outputs": []
    },
    {
      "cell_type": "markdown",
      "source": [
        "###Questão 4\n",
        "\n",
        "Avalie a `performance` do modelo estimado na base de `teste` utilizando:\n",
        "*    Matriz de confusão\n",
        "*    Precisão\n",
        "*    Sensibilidade\n",
        "\n",
        "> Dica:\n",
        "*    Defina input e output para a base de teste;\n",
        "*    Faça a previsão para a base de teste;\n",
        "*    Calcule as medidas de performance listadas acima."
      ],
      "metadata": {
        "id": "b_9DPA3nRV0W"
      }
    },
    {
      "cell_type": "code",
      "source": [
        "# Questao 4\n",
        "\n",
        "\n",
        "\n",
        "\n",
        "\n",
        "\n",
        "\n",
        "\n",
        "\n"
      ],
      "metadata": {
        "id": "WhlmC6LESPca"
      },
      "execution_count": null,
      "outputs": []
    },
    {
      "cell_type": "markdown",
      "source": [
        "###Questão 5\n",
        "\n",
        "Interprete os resultados: Você acredita que o modelo é adequado? Justifique:\n",
        "1.    Interpretando as medidas de performance calculadas anteriormente;\n",
        "2.    Ilustrando com o gráfico que exibe os dados de compra e salário, juntamente com a curva que estima a probabilidade de compra."
      ],
      "metadata": {
        "id": "8LNVxN-DvqpU"
      }
    },
    {
      "cell_type": "code",
      "source": [
        "# Questao 5 (parte 1)\n",
        "\n",
        "\n",
        "\n",
        "\n",
        "\n",
        "\n"
      ],
      "metadata": {
        "id": "BFwNruPF5eMZ"
      },
      "execution_count": null,
      "outputs": []
    },
    {
      "cell_type": "code",
      "source": [
        "# Questao 5 (parte 2)\n",
        "\n",
        "\n",
        "\n",
        "\n",
        "\n"
      ],
      "metadata": {
        "id": "4csV7lUlJzcy"
      },
      "execution_count": null,
      "outputs": []
    }
  ]
}